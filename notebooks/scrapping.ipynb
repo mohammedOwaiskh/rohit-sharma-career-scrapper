{
 "cells": [
  {
   "cell_type": "markdown",
   "id": "b3b25386",
   "metadata": {},
   "source": [
    "# Rohit Sharma Career Scrapping"
   ]
  },
  {
   "cell_type": "markdown",
   "id": "22a7911f",
   "metadata": {},
   "source": [
    "## Importing libraries"
   ]
  },
  {
   "cell_type": "code",
   "execution_count": 1,
   "id": "bfe94a9e",
   "metadata": {},
   "outputs": [],
   "source": [
    "import requests\n",
    "from bs4 import BeautifulSoup\n",
    "import pandas as pd"
   ]
  },
  {
   "cell_type": "markdown",
   "id": "4b155ab4",
   "metadata": {},
   "source": [
    "## Scrapping logic and analysis"
   ]
  },
  {
   "cell_type": "code",
   "execution_count": null,
   "id": "edf0a342",
   "metadata": {},
   "outputs": [],
   "source": [
    "header = {\n",
    "    \"User-Agent\": \"Mozilla/5.0 (Windows NT 10.0; Win64; x64) AppleWebKit/537.36 (KHTML, like Gecko) Chrome/122.0.0.0 Safari/537.36\",\n",
    "}"
   ]
  },
  {
   "cell_type": "code",
   "execution_count": null,
   "id": "b940cbe6",
   "metadata": {},
   "outputs": [],
   "source": [
    "url = \"https://stats.espncricinfo.com/ci/engine/player/34102.html?class=2;template=results;type=batting;view=innings\"\n",
    "\n",
    "\n",
    "page = requests.get(url, headers=header)\n",
    "page"
   ]
  },
  {
   "cell_type": "code",
   "execution_count": null,
   "id": "365881d0",
   "metadata": {},
   "outputs": [],
   "source": [
    "soup = BeautifulSoup(page.text, \"html\")\n",
    "soup.prettify()"
   ]
  },
  {
   "cell_type": "code",
   "execution_count": null,
   "id": "9a2fc893",
   "metadata": {},
   "outputs": [],
   "source": [
    "scores_table = soup.find_all(\"table\", class_=\"engineTable\")[3]\n",
    "scores_table"
   ]
  },
  {
   "cell_type": "code",
   "execution_count": null,
   "id": "47239959",
   "metadata": {},
   "outputs": [],
   "source": [
    "table_headers = scores_table.find_all(\"th\")"
   ]
  },
  {
   "cell_type": "code",
   "execution_count": null,
   "id": "b823c6a1",
   "metadata": {},
   "outputs": [],
   "source": [
    "type(table_headers)"
   ]
  },
  {
   "cell_type": "code",
   "execution_count": null,
   "id": "afd5be26",
   "metadata": {},
   "outputs": [],
   "source": [
    "columns = [header.text.strip() for header in table_headers if header.text.strip() != \"\"]\n",
    "columns.append(\"Format\")"
   ]
  },
  {
   "cell_type": "code",
   "execution_count": null,
   "id": "0f790d25",
   "metadata": {},
   "outputs": [],
   "source": [
    "len([header.text.strip() for header in table_headers if header.text.strip() != \"\"])"
   ]
  },
  {
   "cell_type": "code",
   "execution_count": null,
   "id": "7a38cc0f",
   "metadata": {},
   "outputs": [],
   "source": [
    "row_1 = scores_table.find(\"tr\", class_=\"data1\")  ## Checking for the 1st row"
   ]
  },
  {
   "cell_type": "code",
   "execution_count": null,
   "id": "f9b9fd18",
   "metadata": {},
   "outputs": [],
   "source": [
    "row_data_1 = row_1.find_all(\"td\")\n",
    "row_data_1[-1].find(\"a\").get(\"href\").strip()"
   ]
  },
  {
   "cell_type": "code",
   "execution_count": null,
   "id": "2c40ff54",
   "metadata": {},
   "outputs": [],
   "source": [
    "data = []\n",
    "\n",
    "data.append([data.text.strip() for data in row_data_1 if data.text.strip() != \"\"])"
   ]
  },
  {
   "cell_type": "code",
   "execution_count": null,
   "id": "873fd46c",
   "metadata": {},
   "outputs": [],
   "source": [
    "row_2 = scores_table.find_all(\"tr\", class_=\"data1\")[\n",
    "    1\n",
    "]  ## Checking for the 2nd row - to actually see the data"
   ]
  },
  {
   "cell_type": "code",
   "execution_count": null,
   "id": "16ebf9da",
   "metadata": {},
   "outputs": [],
   "source": [
    "row_data_2 = row_2.find_all(\"td\")\n",
    "data.append([data.text.strip() for data in row_data_2 if data.text.strip() != \"\"])"
   ]
  },
  {
   "cell_type": "code",
   "execution_count": null,
   "id": "1acbb2de",
   "metadata": {},
   "outputs": [],
   "source": [
    "len(data)"
   ]
  },
  {
   "cell_type": "markdown",
   "id": "f55484ab",
   "metadata": {},
   "source": [
    "## Write to CSV or Parquet files"
   ]
  },
  {
   "cell_type": "code",
   "execution_count": null,
   "id": "b7dc10aa",
   "metadata": {},
   "outputs": [],
   "source": [
    "df = pd.DataFrame(data, columns=columns)"
   ]
  },
  {
   "cell_type": "code",
   "execution_count": null,
   "id": "54b112b2",
   "metadata": {},
   "outputs": [],
   "source": [
    "df.head()"
   ]
  },
  {
   "cell_type": "code",
   "execution_count": null,
   "id": "578ec39e",
   "metadata": {},
   "outputs": [],
   "source": [
    "df.to_csv(\"../output/test.csv\",index=False)"
   ]
  }
 ],
 "metadata": {
  "kernelspec": {
   "display_name": ".venv",
   "language": "python",
   "name": "python3"
  },
  "language_info": {
   "codemirror_mode": {
    "name": "ipython",
    "version": 3
   },
   "file_extension": ".py",
   "mimetype": "text/x-python",
   "name": "python",
   "nbconvert_exporter": "python",
   "pygments_lexer": "ipython3",
   "version": "3.13.5"
  }
 },
 "nbformat": 4,
 "nbformat_minor": 5
}
